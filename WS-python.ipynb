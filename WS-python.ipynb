{
 "cells": [
  {
   "cell_type": "markdown",
   "metadata": {
    "deletable": false,
    "editable": false
   },
   "source": [
    "# TISP2.0 Python Workshop\n",
    "\n",
    "<div align=\"center\">\n",
    "    <img width=\"200px\"src=\"assets/logo.png\" />\n",
    "    <img width=\"200px\"src=\"assets/tisp.png\" />\n",
    "</div>"
   ]
  },
  {
   "cell_type": "markdown",
   "metadata": {
    "deletable": false,
    "editable": false
   },
   "source": [
    "## Exercício 1\n",
    "\n",
    "Ler dois números introduzidos pelo utilizador e apresentar o resultado da multiplicação.\n",
    "\n",
    "**DICA:**\\\n",
    "    `+` -> adição\\\n",
    "    `-` -> subtração\\\n",
    "    `*` -> multiplicação\\\n",
    "    `/` -> divisão"
   ]
  },
  {
   "cell_type": "code",
   "execution_count": 1,
   "metadata": {},
   "outputs": [
    {
     "name": "stdout",
     "output_type": "stream",
     "text": [
      "1\n"
     ]
    }
   ],
   "source": [
    "# Resolver aqui o exercício 1\n",
    "\n",
    "x = 1\n",
    "print(x)"
   ]
  },
  {
   "cell_type": "markdown",
   "metadata": {
    "deletable": false,
    "editable": false
   },
   "source": [
    "---\n",
    "## Exercício 2\n",
    "\n",
    "Ler um número introduzido pelo utilizador e dizer se é par ou ímpar.\n",
    "\n",
    "**DICA:**\\\n",
    "    `%` -> retorna o resto da divisão inteira\\\n",
    " \n",
    "Exemplo:\n",
    "```\n",
    "10 % 5 = 0\n",
    "9 % 5 = 4\n",
    "14 % 13 = 1\n",
    "```"
   ]
  },
  {
   "cell_type": "code",
   "execution_count": 2,
   "metadata": {},
   "outputs": [],
   "source": [
    "# Resolver aqui o exercício 2"
   ]
  },
  {
   "cell_type": "markdown",
   "metadata": {
    "deletable": false,
    "editable": false
   },
   "source": [
    "---\n",
    "## Exercício 3\n",
    "\n",
    "Dado uma lista `arr` composta por números inteiros e de tamanho `n`, diga ao utilizador a média desses números.\n",
    "\n",
    "**DICA:**\n",
    "```python\n",
    "arr = [12, 34, 56, 9, 0, ...]\n",
    "n = len(arr)\n",
    "```"
   ]
  },
  {
   "cell_type": "code",
   "execution_count": 3,
   "metadata": {
    "scrolled": true
   },
   "outputs": [
    {
     "name": "stdout",
     "output_type": "stream",
     "text": [
      "[43, 77, 262, 303, 304, 355, 29, 266, 204, 314, 221, 90, 281, 148, 266, 57, 225, 267, 109, 19, 50, 183, 127, 282, 168, 139, 150, 49, 316, 368, 227, 176, 190, 31, 73, 259, 27, 160, 194, 159, 150, 336, 334, 299, 255, 277, 211, 125, 326, 348, 138, 249, 288, 60, 352, 364, 128, 333, 218, 59, 352, 328, 35, 289, 199, 51, 63, 178, 123, 321, 217, 301, 78, 5, 43, 142, 235, 241, 159, 209, 340, 253, 69, 193, 18, 112, 6, 8, 204, 144, 7, 70, 282, 172, 325, 91, 262, 304, 320, 40]\n"
     ]
    }
   ],
   "source": [
    "# reading datasheet file\n",
    "data_file = open('datasheet.txt', 'r')\n",
    "lines = data_file.read().splitlines()\n",
    "arr = [int(num) for num in lines]\n",
    "\n",
    "# resolve aqui o exercício 3 para a lista \"arr\"\n",
    "print(arr)"
   ]
  },
  {
   "cell_type": "markdown",
   "metadata": {
    "deletable": false,
    "editable": false
   },
   "source": [
    "---\n",
    "## Exercício 4\n",
    "\n",
    "1. Encher uma lista com números de 1 a 9 usando uma função com o nome `constroi_lista()` que retorna a lista criada, contendo um ciclo for (Dica: `range(x)`);\n",
    "\n",
    "2. Criar 2 novas listas, e através de um ciclo `for`, usar a lista original para encher uma delas com os número pares e outra com os números ímpares;\n",
    "\n",
    "3. Imprimir para o ecrã as duas novas listas"
   ]
  },
  {
   "cell_type": "code",
   "execution_count": 4,
   "metadata": {},
   "outputs": [],
   "source": [
    "# Resolver aqui o exercício 4"
   ]
  },
  {
   "cell_type": "markdown",
   "metadata": {
    "deletable": false,
    "editable": false
   },
   "source": [
    "---\n",
    "## Exercício 5\n",
    "\n",
    "1. Python oferece uma função que retorna um número aleatório entre 0 e 1 inclusivé. (`random()` da biblioteca `random`)\n",
    "2. Tendo então esta função, estima o valor do π\n",
    "\n",
    "**DICA:**\n",
    "- Lembra-te das aulas de geometria analítica\n",
    "- Tudo começa com a área de um círculo"
   ]
  },
  {
   "cell_type": "code",
   "execution_count": 5,
   "metadata": {},
   "outputs": [
    {
     "name": "stdout",
     "output_type": "stream",
     "text": [
      "0\n"
     ]
    }
   ],
   "source": [
    "# Resolver aqui o exercício 5\n",
    "from random import random\n",
    "\n",
    "def estima_pi():\n",
    "    # definir esta funcao\n",
    "    x = random()\n",
    "    y = random()\n",
    "    \n",
    "    return 0\n",
    "           \n",
    "   \n",
    "print(estima_pi())"
   ]
  },
  {
   "cell_type": "markdown",
   "metadata": {
    "deletable": false,
    "editable": false
   },
   "source": [
    "---\n",
    "## Exercício 6\n",
    "\n",
    "Gerar um número aleatório entre 1 e 100 e ler um número introduzido pelo utilizador até acertar no número aleatório. Caso não acertou dar dicas se o número introduzido é maior ou menor que o gerado inicialmente. Caso tenha acertado, terminar programa.\n",
    "\n",
    "**DICA:**\n",
    "```python\n",
    "from random import randint\n",
    "random_number = randint(1,100) # numero aleatorio entre 1 e 100\n",
    "```"
   ]
  },
  {
   "cell_type": "code",
   "execution_count": 6,
   "metadata": {},
   "outputs": [],
   "source": [
    "# Resolver aqui o exercício 6\n",
    "from random import randint\n",
    "random_number = randint(1,100) # numero aleatorio entre 1 e 100"
   ]
  },
  {
   "cell_type": "markdown",
   "metadata": {
    "deletable": false,
    "editable": false
   },
   "source": [
    "---\n",
    "## Exercício 7\n",
    "\n",
    "Gerar um número aleatório entre 1 e 300, percorrer a lista `arr` e contar o número de valores maiores, menores e iguais ao o número gerado\n",
    "\n",
    "**DICA:**\n",
    "```python\n",
    "from random import randint\n",
    "random_number = randint(1,100) # numero aleatorio entre 1 e 100\n",
    "```"
   ]
  },
  {
   "cell_type": "code",
   "execution_count": 7,
   "metadata": {},
   "outputs": [],
   "source": [
    "# Resolver aqui o exercício 7"
   ]
  },
  {
   "cell_type": "code",
   "execution_count": null,
   "metadata": {},
   "outputs": [],
   "source": []
  }
 ],
 "metadata": {
  "kernelspec": {
   "display_name": "Python 3 (ipykernel)",
   "language": "python",
   "name": "python3"
  },
  "language_info": {
   "codemirror_mode": {
    "name": "ipython",
    "version": 3
   },
   "file_extension": ".py",
   "mimetype": "text/x-python",
   "name": "python",
   "nbconvert_exporter": "python",
   "pygments_lexer": "ipython3",
   "version": "3.9.9"
  }
 },
 "nbformat": 4,
 "nbformat_minor": 4
}
