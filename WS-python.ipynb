{
 "cells": [
  {
   "cell_type": "markdown",
   "metadata": {},
   "source": [
    "# TISP2.0 Python Workshop\n",
    "\n",
    "<div align=\"center\">\n",
    "    <img width=\"200px\"src=\"assets/logo.png\" />\n",
    "    <img width=\"200px\"src=\"assets/tisp.png\" />\n",
    "</div>"
   ]
  },
  {
   "cell_type": "markdown",
   "metadata": {},
   "source": [
    "## Exercício 1\n",
    "\n",
    "Ler dois números introduzidos pelo utilizador e apresentar o resultado da multiplicação.\n",
    "\n",
    "**DICA:**\\\n",
    "    `+` -> adição\\\n",
    "    `-` -> subtração\\\n",
    "    `*` -> multiplicação\\\n",
    "    `/` -> divisão"
   ]
  },
  {
   "cell_type": "code",
   "execution_count": 1,
   "metadata": {},
   "outputs": [
    {
     "name": "stdout",
     "output_type": "stream",
     "text": [
      "1\n"
     ]
    }
   ],
   "source": [
    "# Resolver aqui o exercício 1\n",
    "\n",
    "x = 1\n",
    "print(x)"
   ]
  },
  {
   "cell_type": "markdown",
   "metadata": {},
   "source": [
    "---\n",
    "## Exercício 2\n",
    "\n",
    "Ler um número introduzido pelo utilizador e dizer se é par ou ímpar.\n",
    "\n",
    "**DICA:**\\\n",
    "    `%` -> retorna o resto da divisão inteira\\\n",
    " \n",
    "Exemplo:\n",
    "```\n",
    "10 % 5 = 0\n",
    "9 % 5 = 4\n",
    "14 % 13 = 1\n",
    "```"
   ]
  },
  {
   "cell_type": "code",
   "execution_count": 2,
   "metadata": {},
   "outputs": [],
   "source": [
    "# Resolver aqui o exercício 2"
   ]
  },
  {
   "cell_type": "markdown",
   "metadata": {},
   "source": [
    "---\n",
    "## Exercício 3\n",
    "\n",
    "Dado uma lista Arr composta por números inteiros e de tamanho N, diga ao utilizador a média desses números.\n",
    "\n",
    "**DICA:**\n",
    "```python\n",
    "Arr = [12, 34, 56, 9, 0, ...]\n",
    "N = len(Arr)\n",
    "```"
   ]
  },
  {
   "cell_type": "code",
   "execution_count": 3,
   "metadata": {},
   "outputs": [],
   "source": [
    "# Resolver aqui o exercício 3"
   ]
  },
  {
   "cell_type": "markdown",
   "metadata": {},
   "source": [
    "---\n",
    "## Exercício 4\n",
    "\n",
    "1. Encher uma lista com números de 1 a 9 usando uma função com o nome `constroi_lista()` que retorna a lista criada, contendo um ciclo for (Dica: `range(x)`);\n",
    "\n",
    "2. Criar 2 novas listas, e através de um ciclo `for`, usar a lista original para encher uma delas com os número pares e outra com os números ímpares;\n",
    "\n",
    "3. Imprimir para o ecrã as duas novas listas"
   ]
  },
  {
   "cell_type": "code",
   "execution_count": 4,
   "metadata": {},
   "outputs": [],
   "source": [
    "# Resolver aqui o exercício 4"
   ]
  },
  {
   "cell_type": "markdown",
   "metadata": {},
   "source": [
    "---\n",
    "## Exercício 5\n",
    "\n",
    "1. Python oferece uma função que retorna um número aleatório entre 0 e 1 inclusivé. (`random()` da biblioteca `random`)\n",
    "2. Tendo então esta função, estima o valor do π\n",
    "\n",
    "**DICA:**\n",
    "- Lembra-te das aulas de geometria analítica\n",
    "- Tudo começa com a área de um círculo"
   ]
  },
  {
   "cell_type": "code",
   "execution_count": 5,
   "metadata": {},
   "outputs": [
    {
     "name": "stdout",
     "output_type": "stream",
     "text": [
      "0\n"
     ]
    }
   ],
   "source": [
    "# Resolver aqui o exercício 5\n",
    "from random import random\n",
    "\n",
    "def estima_pi():\n",
    "    # definir esta funcao\n",
    "    x = random()\n",
    "    y = random()\n",
    "    \n",
    "    return 0\n",
    "           \n",
    "   \n",
    "print(estima_pi())"
   ]
  },
  {
   "cell_type": "markdown",
   "metadata": {},
   "source": [
    "---\n",
    "## Exercício 6\n",
    "\n",
    "Gerar um número aleatório entre 1 e 100 e ler um número introduzido pelo utilizador até acertar no número aleatório. Caso não acertou dar dicas se o número introduzido é maior ou menor que o gerado inicialmente. Caso tenha acertado, terminar programa.\n",
    "\n",
    "**DICA:**\n",
    "```python\n",
    "from random import randint\n",
    "random_number = randint(1,100) # numero aleatorio entre 1 e 100\n",
    "```"
   ]
  },
  {
   "cell_type": "code",
   "execution_count": 6,
   "metadata": {},
   "outputs": [],
   "source": [
    "# Resolver aqui o exercício 6\n",
    "from random import randint\n",
    "random_number = randint(1,100) # numero aleatorio entre 1 e 100"
   ]
  }
 ],
 "metadata": {
  "kernelspec": {
   "display_name": "Python 3 (ipykernel)",
   "language": "python",
   "name": "python3"
  },
  "language_info": {
   "codemirror_mode": {
    "name": "ipython",
    "version": 3
   },
   "file_extension": ".py",
   "mimetype": "text/x-python",
   "name": "python",
   "nbconvert_exporter": "python",
   "pygments_lexer": "ipython3",
   "version": "3.9.9"
  }
 },
 "nbformat": 4,
 "nbformat_minor": 4
}
